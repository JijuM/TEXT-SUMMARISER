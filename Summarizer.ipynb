{
 "cells": [
  {
   "cell_type": "code",
   "execution_count": 3,
   "id": "91440288",
   "metadata": {},
   "outputs": [
    {
     "name": "stdout",
     "output_type": "stream",
     "text": [
      "In the constitution of India, the prime minister is mentioned in only four of its articles (articles 74, 75, 78 and 366). The president's constitutional duty is to preserve, protect and defend the Constitution and the law per article 60. The prime minister of India is the head of government and has the responsibility for executive power. The prime minister plays a crucial role in the government of India by enjoying majority in the Lok Sabha.\n"
     ]
    }
   ],
   "source": [
    "import nltk\n",
    "from nltk.corpus import stopwords\n",
    "from nltk.tokenize import sent_tokenize, word_tokenize\n",
    "from heapq import nlargest\n",
    "\n",
    "# Sample text to summarize\n",
    "text = \"The Constitution envisions a scheme of affairs in which the president of India is the head of state; in terms of Article 53 with office of the prime minister being the head of Council of Ministers to assist and advise the president in the discharge of his/her constitutional functions. To quote, Article 53, 74 and 75 provide as underThe executive powers of the Union shall be vested in the president and shall be exercised either directly or through subordinate officers, in accordance with the Constitution.— Article 53(1), Constitution of IndiaThere shall be a Council of Ministers with the Prime Minister at the head to aid and advise the president who shall, in the exercise of his functions, act in accordance with such advice.— Article 74(1), Constitution of IndiaThe Prime Minister shall be appointed by the President and the other Ministers shall be appointed by the President on the advice of the Prime Minister.— Article 75(1), Constitution of IndiaLike most parliamentary democracies, the president's duties are mostly ceremonial as long as the constitution and the rule of law is obeyed by the cabinet and the legislature. The prime minister of India is the head of government and has the responsibility for executive power. The president's constitutional duty is to preserve, protect and defend the Constitution and the law per article 60. In the constitution of India, the prime minister is mentioned in only four of its articles (articles 74, 75, 78 and 366). The prime minister plays a crucial role in the government of India by enjoying majority in the Lok Sabha.\"\n",
    "sentences = sent_tokenize(text)\n",
    "\n",
    "# Create a list of stopwords (words to be ignored in the summary)\n",
    "stop_words = set(stopwords.words(\"english\"))\n",
    "\n",
    "# Create a dictionary to store the word frequency\n",
    "word_freq = {}\n",
    "\n",
    "# Calculate the frequency of each word in the text\n",
    "for sentence in sentences:\n",
    "    words = word_tokenize(sentence)\n",
    "    for word in words:\n",
    "        if word not in stop_words:\n",
    "            if word not in word_freq.keys():\n",
    "                word_freq[word] = 1\n",
    "            else:\n",
    "                word_freq[word] += 1\n",
    "\n",
    "# Calculate the maximum frequency of any word in the text\n",
    "max_freq = max(word_freq.values())\n",
    "\n",
    "# Divide the frequency of each word by the maximum frequency to normalize the scores\n",
    "for word in word_freq.keys():\n",
    "    word_freq[word] = (word_freq[word]/max_freq)\n",
    "\n",
    "# Calculate the sentence scores based on the word scores\n",
    "sent_scores = {}\n",
    "for sentence in sentences:\n",
    "    for word in word_tokenize(sentence.lower()):\n",
    "        if word in word_freq.keys():\n",
    "            if len(sentence.split(' ')) < 30:\n",
    "                if sentence not in sent_scores.keys():\n",
    "                    sent_scores[sentence] = word_freq[word]\n",
    "                else:\n",
    "                    sent_scores[sentence] += word_freq[word]\n",
    "\n",
    "# Select the top 5 sentences with highest scores\n",
    "summary_sentences = nlargest(5, sent_scores, key=sent_scores.get)\n",
    "\n",
    "# Combine the summary sentences into a single string\n",
    "summary = ' '.join(summary_sentences)\n",
    "\n",
    "# Print the summary\n",
    "print(summary)"
   ]
  },
  {
   "cell_type": "code",
   "execution_count": null,
   "id": "7ab625f7",
   "metadata": {},
   "outputs": [],
   "source": []
  }
 ],
 "metadata": {
  "kernelspec": {
   "display_name": "Python 3 (ipykernel)",
   "language": "python",
   "name": "python3"
  },
  "language_info": {
   "codemirror_mode": {
    "name": "ipython",
    "version": 3
   },
   "file_extension": ".py",
   "mimetype": "text/x-python",
   "name": "python",
   "nbconvert_exporter": "python",
   "pygments_lexer": "ipython3",
   "version": "3.9.12"
  }
 },
 "nbformat": 4,
 "nbformat_minor": 5
}
